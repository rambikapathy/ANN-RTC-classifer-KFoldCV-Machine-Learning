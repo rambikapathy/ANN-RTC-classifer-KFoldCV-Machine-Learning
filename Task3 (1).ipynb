{
 "cells": [
  {
   "cell_type": "markdown",
   "id": "477985b4",
   "metadata": {},
   "source": [
    "# Task 3 (HIV)"
   ]
  },
  {
   "cell_type": "markdown",
   "id": "9f736687",
   "metadata": {},
   "source": [
    "### Section 3.1"
   ]
  },
  {
   "cell_type": "code",
   "execution_count": 1,
   "id": "d201f01f",
   "metadata": {},
   "outputs": [],
   "source": [
    "#import the neccessary libraries\n",
    "import pandas as pd\n",
    "import random as rd\n",
    "import numpy as np\n",
    "import numpy.linalg as linalg\n",
    "import matplotlib.pyplot as plt\n",
    "\n",
    "from matplotlib.colors import ListedColormap\n",
    "from sklearn.neural_network import MLPClassifier\n",
    "from sklearn.preprocessing import StandardScaler\n",
    "from sklearn import preprocessing\n",
    "from sklearn.model_selection import KFold\n",
    "from sklearn.utils import shuffle\n",
    "from sklearn.metrics import confusion_matrix\n",
    "from sklearn.metrics import accuracy_score\n",
    "from sklearn.model_selection import cross_val_score\n",
    "from sklearn.ensemble import RandomForestClassifier\n",
    "from sklearn.model_selection import train_test_split\n",
    "from sklearn.model_selection import ShuffleSplit\n",
    "\n",
    "#load the dataset in pandaS\n",
    "HIV = pd.read_csv('Task3 - dataset - HIV RVG.csv') "
   ]
  },
  {
   "cell_type": "markdown",
   "id": "76b4c7e5",
   "metadata": {},
   "source": [
    "#### You should then provide a statistical summary of the dataset (i.e. mean values, standard deviations, min/max values or each feature)"
   ]
  },
  {
   "cell_type": "code",
   "execution_count": 476,
   "id": "df82f165",
   "metadata": {},
   "outputs": [
    {
     "data": {
      "text/plain": [
       "Index(['Image number', 'Bifurcation number', 'Artery (1)/ Vein (2)', 'Alpha',\n",
       "       'Beta', 'Lambda', 'Lambda1', 'Lambda2', 'Participant Condition'],\n",
       "      dtype='object')"
      ]
     },
     "execution_count": 476,
     "metadata": {},
     "output_type": "execute_result"
    }
   ],
   "source": [
    "HIV.columns\n",
    "#HIV.describe()"
   ]
  },
  {
   "cell_type": "markdown",
   "id": "2223481d",
   "metadata": {},
   "source": [
    "#### you should normalise the data before starting training/testing any model and justify your decision.\n"
   ]
  },
  {
   "cell_type": "code",
   "execution_count": 478,
   "id": "fbce8973",
   "metadata": {},
   "outputs": [],
   "source": [
    "#import normaliser to normalise the data\n",
    "from sklearn.preprocessing import Normalizer"
   ]
  },
  {
   "cell_type": "code",
   "execution_count": 479,
   "id": "80eb69dd",
   "metadata": {},
   "outputs": [],
   "source": [
    "# Header values of integer type are stored in X\n",
    "#Participant condition is another header of type string stored in y for the purpose of input and output components.\n",
    "array = HIV.values\n",
    "\n",
    "#8 features\n",
    "X = array[:,0:8]\n",
    "Y = array[:,8]"
   ]
  },
  {
   "cell_type": "code",
   "execution_count": 480,
   "id": "e00a8b08",
   "metadata": {},
   "outputs": [],
   "source": [
    "#here we normalise the data \n",
    "scaler = Normalizer().fit(X)\n",
    "normalizedX = scaler.transform(X)"
   ]
  },
  {
   "cell_type": "code",
   "execution_count": 481,
   "id": "a5e07d4a",
   "metadata": {},
   "outputs": [],
   "source": [
    "#2D numpy array \n",
    "dataset_np = HIV.to_numpy()\n",
    "lables = HIV.columns"
   ]
  },
  {
   "cell_type": "code",
   "execution_count": 482,
   "id": "b91c0678",
   "metadata": {},
   "outputs": [
    {
     "name": "stdout",
     "output_type": "stream",
     "text": [
      "values for:  Image number\n",
      "Image number Max:  203\n",
      "Image number Min:  1\n",
      "Image number Mean:  107.35500933416304\n",
      "Image number Median:  109.0\n",
      "Image number Standard Deviation:  58.92403834129209\n",
      "\n",
      "\n",
      "values for:  Bifurcation number\n",
      "Bifurcation number Max:  25\n",
      "Bifurcation number Min:  1\n",
      "Bifurcation number Mean:  6.22059738643435\n",
      "Bifurcation number Median:  5.0\n",
      "Bifurcation number Standard Deviation:  4.102702846294904\n",
      "\n",
      "\n",
      "values for:  Artery (1)/ Vein (2)\n",
      "Artery (1)/ Vein (2) Max:  2\n",
      "Artery (1)/ Vein (2) Min:  1\n",
      "Artery (1)/ Vein (2) Mean:  1.5731176104542626\n",
      "Artery (1)/ Vein (2) Median:  2.0\n",
      "Artery (1)/ Vein (2) Standard Deviation:  0.49462492359510823\n",
      "\n",
      "\n",
      "values for:  Alpha\n",
      "Alpha Max:  2.356406419\n",
      "Alpha Min:  0.092770246\n",
      "Alpha Mean:  0.6153054535242671\n",
      "Alpha Median:  0.620978196\n",
      "Alpha Standard Deviation:  0.26520363332540575\n",
      "\n",
      "\n",
      "values for:  Beta\n",
      "Beta Max:  3.376730946\n",
      "Beta Min:  0.283299475\n",
      "Beta Mean:  1.5560927540494711\n",
      "Beta Median:  1.5155616935\n",
      "Beta Standard Deviation:  0.38766562089864853\n",
      "\n",
      "\n",
      "values for:  Lambda\n",
      "Lambda Max:  1.535059093\n",
      "Lambda Min:  0.304582085\n",
      "Lambda Mean:  0.765141151596453\n",
      "Lambda Median:  0.7880216915\n",
      "Lambda Standard Deviation:  0.17281340126954137\n",
      "\n",
      "\n",
      "values for:  Lambda1\n",
      "Lambda1 Max:  1.467636865\n",
      "Lambda1 Min:  0.390920117\n",
      "Lambda1 Mean:  0.9814646947072185\n",
      "Lambda1 Median:  0.9840150759999999\n",
      "Lambda1 Standard Deviation:  0.1304718863137816\n",
      "\n",
      "\n",
      "values for:  Lambda2\n",
      "Lambda2 Max:  1.246102476\n",
      "Lambda2 Min:  0.309525766\n",
      "Lambda2 Mean:  0.7419289690186683\n",
      "Lambda2 Median:  0.7562263730000001\n",
      "Lambda2 Standard Deviation:  0.15918008328542843\n",
      "\n",
      "\n"
     ]
    }
   ],
   "source": [
    "#Statistical summary, mean, median, min, max and standard deviation.\n",
    "# This helps visualise and comprehend the large HIV dataset\n",
    "for i in range(0,8): \n",
    "        print(\"values for: \", lables[i])\n",
    "        print(lables[i], \"Max: \", np.max(dataset_np[:,i]) )\n",
    "        print(lables[i], \"Min: \",  np.min(dataset_np[:,i]) )\n",
    "        print(lables[i], \"Mean: \", np.mean(dataset_np[:,i]) )\n",
    "        print(lables[i], \"Median: \", np.median(dataset_np[:,i]) )\n",
    "        print(lables[i], \"Standard Deviation: \", np.std(dataset_np[:,i]) )\n",
    "        print()\n",
    "        print()"
   ]
  },
  {
   "cell_type": "markdown",
   "id": "ebbd7f88",
   "metadata": {},
   "source": [
    "#### To visualise the data, you need to generate two plots. The first one shall be a box plot, which will include the two classes (“Status”), i.e. control/patient, in the x-axis and the “Alpha” in the y-axis. "
   ]
  },
  {
   "cell_type": "code",
   "execution_count": 483,
   "id": "97dc3988",
   "metadata": {},
   "outputs": [],
   "source": [
    "#First convert dataset into dataframe and inorder to execute box plots\n",
    "HIV_framed = pd.DataFrame(HIV)"
   ]
  },
  {
   "cell_type": "code",
   "execution_count": 484,
   "id": "04d369b0",
   "metadata": {},
   "outputs": [],
   "source": [
    "#Storing headers into variables. #Storing the features in elements and Status variables helps evolve the efficiency and is possible that the memory is lessened .\n",
    "elements = HIV_framed[['Image number','Bifurcation number', 'Artery (1)/ Vein (2)', 'Alpha','Beta', 'Lambda', 'Lambda1', 'Lambda2']]\n",
    "Status = HIV_framed[['Participant Condition']]"
   ]
  },
  {
   "cell_type": "markdown",
   "id": "c530a1de",
   "metadata": {},
   "source": [
    "## Box Plot"
   ]
  },
  {
   "cell_type": "code",
   "execution_count": 485,
   "id": "3a2aa892",
   "metadata": {},
   "outputs": [
    {
     "data": {
      "text/plain": [
       "<Figure size 720x864 with 0 Axes>"
      ]
     },
     "execution_count": 485,
     "metadata": {},
     "output_type": "execute_result"
    },
    {
     "data": {
      "image/png": "[encoded data removed]",
      "text/plain": [
       "<Figure size 432x288 with 1 Axes>"
      ]
     },
     "metadata": {
      "needs_background": "light"
     },
     "output_type": "display_data"
    },
    {
     "data": {
      "text/plain": [
       "<Figure size 720x864 with 0 Axes>"
      ]
     },
     "metadata": {},
     "output_type": "display_data"
    }
   ],
   "source": [
    "HIV_framed.boxplot(column=[\"Alpha\"], by=\"Participant Condition\") \n",
    "plt.xlabel(\"Status  i.e. control/patient,\")\n",
    "plt.ylabel(\"Alpha\")\n",
    "plt.figure(figsize=(10,12))"
   ]
  },
  {
   "cell_type": "markdown",
   "id": "771cc0d0",
   "metadata": {},
   "source": [
    "## Density Plot"
   ]
  },
  {
   "cell_type": "code",
   "execution_count": 486,
   "id": "ee415629",
   "metadata": {},
   "outputs": [
    {
     "data": {
      "image/png": "[encoded data removed]",
      "text/plain": [
       "<Figure size 432x288 with 1 Axes>"
      ]
     },
     "metadata": {
      "needs_background": "light"
     },
     "output_type": "display_data"
    }
   ],
   "source": [
    "#Demonstrates HIV density plot.\n",
    "HIV_density = HIV_framed.pivot(columns='Participant Condition', values = 'Beta')\n",
    "HIV_density.plot.density()\n",
    "plt.title('Density Plot for Beta')\n",
    "plt.ylabel('Beta')\n",
    "plt.xlabel('Patient Condition')\n",
    "plt.show()"
   ]
  },
  {
   "cell_type": "markdown",
   "id": "102c7e69",
   "metadata": {},
   "source": [
    "'What information can be obtained from each of these two plots? Can one use any of these two plots to identify outliers? If yes, please elaborate. Please include your explanation of implementation alongside the plots.'"
   ]
  },
  {
   "cell_type": "markdown",
   "id": "e0d14b2f",
   "metadata": {},
   "source": [
    "# Section 3.2 (Implementation of ANN classifier for better accuracy)"
   ]
  },
  {
   "cell_type": "markdown",
   "id": "7227d229",
   "metadata": {},
   "source": [
    "#Normalise the HIV dataset"
   ]
  },
  {
   "cell_type": "code",
   "execution_count": 463,
   "id": "7ccafb2b",
   "metadata": {},
   "outputs": [],
   "source": [
    "HIV_normalised = (X-np.min(X))/(np.amax(X)-np.amin(X))"
   ]
  },
  {
   "cell_type": "markdown",
   "id": "8d31e7ea",
   "metadata": {},
   "source": [
    "Sigmoid Function for non linear activation function"
   ]
  },
  {
   "cell_type": "code",
   "execution_count": 464,
   "id": "32eac556",
   "metadata": {},
   "outputs": [],
   "source": [
    "#shuffle the data to ensure each data is varied, therefore we are seeing the plots and accuracy differ.\n",
    "#This has the options to reomve trends that are heavilly correlated to the data entry order.It also removes any biases\n",
    "randomState = np.random.RandomState(10)\n",
    "HIV_normalised += 2 * randomState.uniform(size=HIV_normalised.shape)"
   ]
  },
  {
   "cell_type": "code",
   "execution_count": 532,
   "id": "bc578050",
   "metadata": {},
   "outputs": [
    {
     "name": "stderr",
     "output_type": "stream",
     "text": [
      "C:\\Users\\rishi\\anaconda3\\lib\\site-packages\\sklearn\\utils\\validation.py:63: DataConversionWarning: A column-vector y was passed when a 1d array was expected. Please change the shape of y to (n_samples, ), for example using ravel().\n",
      "  return f(*args, **kwargs)\n",
      "C:\\Users\\rishi\\anaconda3\\lib\\site-packages\\sklearn\\utils\\validation.py:63: DataConversionWarning: A column-vector y was passed when a 1d array was expected. Please change the shape of y to (n_samples, ), for example using ravel().\n",
      "  return f(*args, **kwargs)\n",
      "C:\\Users\\rishi\\anaconda3\\lib\\site-packages\\sklearn\\utils\\validation.py:63: DataConversionWarning: A column-vector y was passed when a 1d array was expected. Please change the shape of y to (n_samples, ), for example using ravel().\n",
      "  return f(*args, **kwargs)\n",
      "C:\\Users\\rishi\\anaconda3\\lib\\site-packages\\sklearn\\utils\\validation.py:63: DataConversionWarning: A column-vector y was passed when a 1d array was expected. Please change the shape of y to (n_samples, ), for example using ravel().\n",
      "  return f(*args, **kwargs)\n",
      "C:\\Users\\rishi\\anaconda3\\lib\\site-packages\\sklearn\\utils\\validation.py:63: DataConversionWarning: A column-vector y was passed when a 1d array was expected. Please change the shape of y to (n_samples, ), for example using ravel().\n",
      "  return f(*args, **kwargs)\n",
      "C:\\Users\\rishi\\anaconda3\\lib\\site-packages\\sklearn\\utils\\validation.py:63: DataConversionWarning: A column-vector y was passed when a 1d array was expected. Please change the shape of y to (n_samples, ), for example using ravel().\n",
      "  return f(*args, **kwargs)\n",
      "C:\\Users\\rishi\\anaconda3\\lib\\site-packages\\sklearn\\utils\\validation.py:63: DataConversionWarning: A column-vector y was passed when a 1d array was expected. Please change the shape of y to (n_samples, ), for example using ravel().\n",
      "  return f(*args, **kwargs)\n"
     ]
    },
    {
     "data": {
      "text/plain": [
       "Text(0.5, 1.0, 'Accuracy against epochs')"
      ]
     },
     "execution_count": 532,
     "metadata": {},
     "output_type": "execute_result"
    },
    {
     "data": {
      "image/png": "[encoded data removed]",
      "text/plain": [
       "<Figure size 432x288 with 1 Axes>"
      ]
     },
     "metadata": {
      "needs_background": "light"
     },
     "output_type": "display_data"
    }
   ],
   "source": [
    "logisticFunc = 'logistic'\n",
    "\n",
    "# Train & Test ANN classifer by splitting into 0.9 and 0.1\n",
    "x_train, x_test, y_train, y_test = train_test_split(HIV_normalised, Status, test_size = 0.1,train_size=0.9)\n",
    "#x_train, x_test, y_train, y_test = test_train_split(HIV_normalised, Status, train_size = 0.9)\n",
    "\n",
    "\n",
    "#MLPClassifier is a feedforward ANN  model to maps training data sets to an appropriate output set.\n",
    "Ann = MLPClassifier(solver='lbfgs', alpha=0, random_state=40, max_iter=1000,\n",
    "        early_stopping=True, hidden_layer_sizes=[500, 500],# set the neurons in each layer to 500\n",
    "        activation = logisticFunc)\n",
    "Ann.out_activation_='logistic'# logistic output function for output later\n",
    "\n",
    "# fit the data, to examine error through slicing, this here is done with taking an the array value from 1st index to last.\n",
    "Ann.fit(x_train, y_train)\n",
    "Ann.predict(x_test[:,:])\n",
    "\n",
    "#The accuracy plot will keep changing due to the shuffling of data\n",
    "accuracyANN=[]\n",
    "\n",
    "#Each epoch has a variety of inputs\n",
    "Epochs = [100,200,400,500,750,1000]\n",
    "#the higher the epoch the dear the comnputation for the evaluation of model post testing.\n",
    "\n",
    "#ANN\n",
    "for artificialNeuralNetwork in Epochs:\n",
    "    Ann = MLPClassifier(solver='lbfgs', alpha=0, max_iter=artificialNeuralNetwork,\n",
    "    early_stopping=True, hidden_layer_sizes=[500, 500],#hidden layer size to 500\n",
    "\n",
    "    activation = logisticFunc)\n",
    "    \n",
    "    \n",
    "    ## now we shall the fit the data\n",
    "    Ann.fit(x_train, y_train)\n",
    "    Ann.predict(x_test[:,:])\n",
    "    \n",
    "    #for repeating the operation on all the ann accuracies for listed epochs\n",
    "    accuracy = round(Ann.score(x_test, y_test),3)\n",
    "    accuracyANN.append(accuracy)\n",
    "    \n",
    "\n",
    "#plot\n",
    "#semilogx is  data  being visualised when x-axis is converted to log format. this produces better plots than .plot func.\n",
    "plt.semilogx([100,200,400,500,750,1000], accuracyANN)\n",
    "plt.xlabel('No. of epochs')\n",
    "plt.ylabel('Accuracy')\n",
    "plt.xlim(100,1000)\n",
    "plt.title('Accuracy against epochs')"
   ]
  },
  {
   "cell_type": "code",
   "execution_count": 533,
   "id": "ddbfb95c",
   "metadata": {},
   "outputs": [
    {
     "name": "stdout",
     "output_type": "stream",
     "text": [
      "The ANN accuracy for the following epoch neurons; 100,200,400,500,750,1000 are\n",
      "[0.509, 0.506, 0.512, 0.503, 0.506, 0.509]\n",
      "respectively\n"
     ]
    }
   ],
   "source": [
    "print('The ANN accuracy for the following epoch neurons; 100,200,400,500,750,1000 are');print(accuracyANN);print('respectively')"
   ]
  },
  {
   "cell_type": "markdown",
   "id": "858058ca",
   "metadata": {},
   "source": [
    "### A trial method that had led to higher and more efficient accuracy for ANN "
   ]
  },
  {
   "cell_type": "code",
   "execution_count": 489,
   "id": "e54e30d3",
   "metadata": {},
   "outputs": [
    {
     "name": "stderr",
     "output_type": "stream",
     "text": [
      "C:\\Users\\rishi\\anaconda3\\lib\\site-packages\\sklearn\\utils\\validation.py:63: DataConversionWarning: A column-vector y was passed when a 1d array was expected. Please change the shape of y to (n_samples, ), for example using ravel().\n",
      "  return f(*args, **kwargs)\n",
      "C:\\Users\\rishi\\anaconda3\\lib\\site-packages\\sklearn\\utils\\validation.py:63: DataConversionWarning: A column-vector y was passed when a 1d array was expected. Please change the shape of y to (n_samples, ), for example using ravel().\n",
      "  return f(*args, **kwargs)\n",
      "C:\\Users\\rishi\\anaconda3\\lib\\site-packages\\sklearn\\utils\\validation.py:63: DataConversionWarning: A column-vector y was passed when a 1d array was expected. Please change the shape of y to (n_samples, ), for example using ravel().\n",
      "  return f(*args, **kwargs)\n",
      "C:\\Users\\rishi\\anaconda3\\lib\\site-packages\\sklearn\\utils\\validation.py:63: DataConversionWarning: A column-vector y was passed when a 1d array was expected. Please change the shape of y to (n_samples, ), for example using ravel().\n",
      "  return f(*args, **kwargs)\n",
      "C:\\Users\\rishi\\anaconda3\\lib\\site-packages\\sklearn\\utils\\validation.py:63: DataConversionWarning: A column-vector y was passed when a 1d array was expected. Please change the shape of y to (n_samples, ), for example using ravel().\n",
      "  return f(*args, **kwargs)\n",
      "C:\\Users\\rishi\\anaconda3\\lib\\site-packages\\sklearn\\utils\\validation.py:63: DataConversionWarning: A column-vector y was passed when a 1d array was expected. Please change the shape of y to (n_samples, ), for example using ravel().\n",
      "  return f(*args, **kwargs)\n"
     ]
    },
    {
     "name": "stdout",
     "output_type": "stream",
     "text": [
      "The ANN accuracy for the following epochs; 100,200,400,500,750,1000 are\n",
      "[0.6273291925465838, 0.6273291925465838, 0.6273291925465838, 0.6273291925465838, 0.6273291925465838, 0.6273291925465838]\n"
     ]
    }
   ],
   "source": [
    "x = pd.DataFrame(HIV)\n",
    "x = x.drop('Participant Condition', 1)\n",
    "y = pd.DataFrame(HIV, columns=['Participant Condition'])\n",
    "\n",
    "#Test split at 10% and train split at 90%\n",
    "x_train, x_test, y_train, y_test = train_test_split(x, y, test_size=0.1, train_size=0.9) \n",
    "\n",
    "\n",
    "\n",
    "# The dataset here is to be normalised\n",
    "scaler = StandardScaler()\n",
    "scaler.fit(x_train)\n",
    "x_train = scaler.transform(x_train)\n",
    "x_test = scaler.transform(x_test)\n",
    "\n",
    "Epochs = [100,200,400,500,750,1000]\n",
    "sizeEpochs = len(Epochs)\n",
    "accuracyANN = [] \n",
    "\n",
    "\n",
    "for i in range(sizeEpochs):\n",
    "    Ann = MLPClassifier(hidden_layer_sizes=(500, 500), activation='logistic', max_iter=1000, random_state=40)\n",
    "    setattr(Ann, \"out_activation_\", \"logistic\")\n",
    "\n",
    "    Ann.fit(x_train, y_train)\n",
    "    Ann_predict = Ann.predict(x_test)\n",
    "    updatedAccuracy = accuracy_score(y_test, Ann_predict)\n",
    "    accuracyANN.append(updatedAccuracy)\n",
    "\n",
    "print('The ANN accuracy for the following epochs; 100,200,400,500,750,1000 are');print(accuracyANN)"
   ]
  },
  {
   "cell_type": "markdown",
   "id": "c3e094f8",
   "metadata": {},
   "source": [
    "### Trial Method 2 for ANN accuracy"
   ]
  },
  {
   "cell_type": "code",
   "execution_count": 426,
   "id": "6e636f07",
   "metadata": {},
   "outputs": [
    {
     "name": "stderr",
     "output_type": "stream",
     "text": [
      "C:\\Users\\rishi\\anaconda3\\lib\\site-packages\\sklearn\\utils\\validation.py:63: DataConversionWarning: A column-vector y was passed when a 1d array was expected. Please change the shape of y to (n_samples, ), for example using ravel().\n",
      "  return f(*args, **kwargs)\n"
     ]
    },
    {
     "name": "stdout",
     "output_type": "stream",
     "text": [
      "Artificial Neural Network Accuracy of MLP, epoch of 100 : 0.5745341614906833\n"
     ]
    },
    {
     "name": "stderr",
     "output_type": "stream",
     "text": [
      "C:\\Users\\rishi\\anaconda3\\lib\\site-packages\\sklearn\\utils\\validation.py:63: DataConversionWarning: A column-vector y was passed when a 1d array was expected. Please change the shape of y to (n_samples, ), for example using ravel().\n",
      "  return f(*args, **kwargs)\n"
     ]
    },
    {
     "name": "stdout",
     "output_type": "stream",
     "text": [
      "Artificial Neural Network Accuracy of MLP, epoch of 200 : 0.5745341614906833\n"
     ]
    }
   ],
   "source": [
    "def accuracy(confusion_matrix):\n",
    "   Sum = confusion_matrix.trace()\n",
    "   totalSum = confusion_matrix.sum()\n",
    "   return Sum / totalSum\n",
    "\n",
    "epochs = 100\n",
    "Ann = MLPClassifier(hidden_layer_sizes=(500,500), max_iter=epochs,activation = 'logistic',solver='sgd',random_state=60)\n",
    "Ann.fit(x_train, y_train)\n",
    "y_pred = Ann.predict(x_test)\n",
    "sumOfConfMatr = confusion_matrix(y_pred, y_test)\n",
    "print(\"Artificial Neural Network Accuracy of MLP, epoch of 100 :\" '', accuracy(sumOfConfMatr))\n",
    "\n",
    "epochs = 200\n",
    "Ann200 = MLPClassifier(hidden_layer_sizes=(500,500), max_iter=epochs,activation = 'logistic',solver='sgd',random_state=60)\n",
    "Ann200.fit(x_train, y_train)\n",
    "y_pred200 = Ann.predict(x_test)\n",
    "sumOfConfMatr200 = confusion_matrix(y_pred200, y_test)\n",
    "print(\"Artificial Neural Network Accuracy of MLP, epoch of 200 :\" '', accuracy(sumOfConfMatr200))"
   ]
  },
  {
   "cell_type": "markdown",
   "id": "f87f3dd6",
   "metadata": {},
   "source": [
    "## Training random tree classifier"
   ]
  },
  {
   "cell_type": "code",
   "execution_count": 490,
   "id": "1169e2e7",
   "metadata": {},
   "outputs": [
    {
     "name": "stderr",
     "output_type": "stream",
     "text": [
      "<ipython-input-490-ec0b883dd877>:4: DataConversionWarning: A column-vector y was passed when a 1d array was expected. Please change the shape of y to (n_samples,), for example using ravel().\n",
      "  RTC.fit(HIV_normalised,Status)\n"
     ]
    }
   ],
   "source": [
    "x_train, x_test, y_train, y_test = train_test_split(HIV_normalised, Status, test_size = 0.1)#test 10%\n",
    "\n",
    "#here we initiate RandomForestClassifier for the purpose of exaggerating tree information.\n",
    "RTC = RandomForestClassifier(max_depth = 2, random_state = 40, min_samples_leaf = 5, n_estimators = 1000)#leaf node to 5\n",
    "RTC.fit(HIV_normalised,Status)\n",
    "\n",
    "#Here we are splitting and slicing to gain tree information\n",
    "RTC.predict(x_test[:,:])\n",
    "RTCaccuracy = round(RTC.score(x_test, y_test),3)"
   ]
  },
  {
   "cell_type": "code",
   "execution_count": 491,
   "id": "5d3becb2",
   "metadata": {},
   "outputs": [
    {
     "name": "stderr",
     "output_type": "stream",
     "text": [
      "<ipython-input-491-8d95fdbfe17f>:6: DataConversionWarning: A column-vector y was passed when a 1d array was expected. Please change the shape of y to (n_samples,), for example using ravel().\n",
      "  RTC.fit(HIV_normalised,Status)\n",
      "<ipython-input-491-8d95fdbfe17f>:6: DataConversionWarning: A column-vector y was passed when a 1d array was expected. Please change the shape of y to (n_samples,), for example using ravel().\n",
      "  RTC.fit(HIV_normalised,Status)\n",
      "<ipython-input-491-8d95fdbfe17f>:6: DataConversionWarning: A column-vector y was passed when a 1d array was expected. Please change the shape of y to (n_samples,), for example using ravel().\n",
      "  RTC.fit(HIV_normalised,Status)\n",
      "<ipython-input-491-8d95fdbfe17f>:6: DataConversionWarning: A column-vector y was passed when a 1d array was expected. Please change the shape of y to (n_samples,), for example using ravel().\n",
      "  RTC.fit(HIV_normalised,Status)\n",
      "<ipython-input-491-8d95fdbfe17f>:6: DataConversionWarning: A column-vector y was passed when a 1d array was expected. Please change the shape of y to (n_samples,), for example using ravel().\n",
      "  RTC.fit(HIV_normalised,Status)\n",
      "<ipython-input-491-8d95fdbfe17f>:6: DataConversionWarning: A column-vector y was passed when a 1d array was expected. Please change the shape of y to (n_samples,), for example using ravel().\n",
      "  RTC.fit(HIV_normalised,Status)\n"
     ]
    },
    {
     "data": {
      "text/plain": [
       "Text(0.5, 1.0, 'Random forest classifier')"
      ]
     },
     "execution_count": 491,
     "metadata": {},
     "output_type": "execute_result"
    },
    {
     "data": {
      "image/png": "[encoded data removed]",
      "text/plain": [
       "<Figure size 432x288 with 1 Axes>"
      ]
     },
     "metadata": {
      "needs_background": "light"
     },
     "output_type": "display_data"
    }
   ],
   "source": [
    "accuracyRTC = []# accuracy array\n",
    "\n",
    "tree = [10,50,100,200,500,1000]# trees are defined in sizes\n",
    "#increase the size will decresease the total outcome of trees to be implemented\n",
    "\n",
    "# the sizes that are listed ensures efficiency wwhen making optimal use of all tree samples.\n",
    "\n",
    "for randomForest in tree:\n",
    "    RTC = RandomForestClassifier(max_depth = 2, min_samples_leaf = 5, n_estimators = randomForest)\n",
    "    RTC.fit(HIV_normalised,Status)\n",
    "    RTC.predict(x_test[:,:])\n",
    "#    RTC.predict(x_test[:,:]): Classifier is ready to compute prediction when trees have made their own decision after testing, therefore  easily plots and outputs complete mean values    \n",
    "    accuracy = round(RTC.score(x_test, y_test),4)\n",
    "    accuracyRTC.append(accuracy)#adds an updated accuracy(accuracyRTC) to accuracy variable.\n",
    "# This modifies the accuracy list by adding the implemented RTC variable (rtc at leaf node 5) to the end of the list,the list increases by one. \n",
    "\n",
    "#plot rtc\n",
    "plt.semilogx([10,50,100,200,500,1000], accuracyRTC)\n",
    "plt.xlabel('Trees sizes')\n",
    "plt.ylabel('Accuracy')\n",
    "plt.xlim(10,1000)\n",
    "plt.title('Random forest classifier')\n"
   ]
  },
  {
   "cell_type": "code",
   "execution_count": 529,
   "id": "37cfdeea",
   "metadata": {},
   "outputs": [
    {
     "name": "stdout",
     "output_type": "stream",
     "text": [
      "The Random Forest Tree accuracy at leaf node 5 for the following trees; 100,200,400,500,750,1000 are\n",
      "[0.5994, 0.5807, 0.5839, 0.5839, 0.5932, 0.5963]\n",
      "respectively\n"
     ]
    }
   ],
   "source": [
    "print('The Random Forest Tree accuracy at leaf node 5 for the following trees; 100,200,400,500,750,1000 are');print(accuracyRTC);print('respectively')"
   ]
  },
  {
   "cell_type": "markdown",
   "id": "f3be5062",
   "metadata": {},
   "source": [
    "### Leaf = 10"
   ]
  },
  {
   "cell_type": "code",
   "execution_count": 493,
   "id": "52a05ce4",
   "metadata": {},
   "outputs": [
    {
     "name": "stderr",
     "output_type": "stream",
     "text": [
      "<ipython-input-493-5156c88f2f12>:4: DataConversionWarning: A column-vector y was passed when a 1d array was expected. Please change the shape of y to (n_samples,), for example using ravel().\n",
      "  RTC.fit(HIV_normalised,Status)\n"
     ]
    }
   ],
   "source": [
    "x_train, x_test, y_train, y_test = train_test_split(HIV_normalised, Status, test_size = 0.1)\n",
    "\n",
    "RTC = RandomForestClassifier(max_depth = 2, random_state = 40, min_samples_leaf = 10, n_estimators = 1000)\n",
    "RTC.fit(HIV_normalised,Status)\n",
    "RTC.predict(x_test[:,:])\n",
    "RTCaccuracy = round(RTC.score(x_test, y_test),3)"
   ]
  },
  {
   "cell_type": "code",
   "execution_count": 495,
   "id": "5dde4f51",
   "metadata": {},
   "outputs": [
    {
     "name": "stderr",
     "output_type": "stream",
     "text": [
      "<ipython-input-495-49824e524d1f>:6: DataConversionWarning: A column-vector y was passed when a 1d array was expected. Please change the shape of y to (n_samples,), for example using ravel().\n",
      "  RTC.fit(HIV_normalised,Status)\n",
      "<ipython-input-495-49824e524d1f>:6: DataConversionWarning: A column-vector y was passed when a 1d array was expected. Please change the shape of y to (n_samples,), for example using ravel().\n",
      "  RTC.fit(HIV_normalised,Status)\n",
      "<ipython-input-495-49824e524d1f>:6: DataConversionWarning: A column-vector y was passed when a 1d array was expected. Please change the shape of y to (n_samples,), for example using ravel().\n",
      "  RTC.fit(HIV_normalised,Status)\n",
      "<ipython-input-495-49824e524d1f>:6: DataConversionWarning: A column-vector y was passed when a 1d array was expected. Please change the shape of y to (n_samples,), for example using ravel().\n",
      "  RTC.fit(HIV_normalised,Status)\n",
      "<ipython-input-495-49824e524d1f>:6: DataConversionWarning: A column-vector y was passed when a 1d array was expected. Please change the shape of y to (n_samples,), for example using ravel().\n",
      "  RTC.fit(HIV_normalised,Status)\n",
      "<ipython-input-495-49824e524d1f>:6: DataConversionWarning: A column-vector y was passed when a 1d array was expected. Please change the shape of y to (n_samples,), for example using ravel().\n",
      "  RTC.fit(HIV_normalised,Status)\n"
     ]
    },
    {
     "data": {
      "text/plain": [
       "Text(0.5, 1.0, 'Random forest classifier')"
      ]
     },
     "execution_count": 495,
     "metadata": {},
     "output_type": "execute_result"
    },
    {
     "data": {
      "image/png": "[encoded data removed]",
      "text/plain": [
       "<Figure size 432x288 with 1 Axes>"
      ]
     },
     "metadata": {
      "needs_background": "light"
     },
     "output_type": "display_data"
    }
   ],
   "source": [
    "accuracyRTC = []\n",
    "\n",
    "tree = [10,50,100,200,500,1000]\n",
    "for randomForest in tree:\n",
    "    RTC = RandomForestClassifier(max_depth = 2, min_samples_leaf = 10, n_estimators = randomForest)\n",
    "    RTC.fit(HIV_normalised,Status)\n",
    "    RTC.predict(x_test[:,:])\n",
    "    accuracy = round(RTC.score(x_test, y_test),4)\n",
    "    accuracyRTC.append(accuracy)\n",
    "\n",
    "\n",
    "plt.semilogx([10,50,100,200,500,1000], accuracyRTC)\n",
    "plt.xlabel('Trees sizes')\n",
    "plt.ylabel('Accuracy')\n",
    "plt.xlim(10,1000)\n",
    "plt.title('Random forest classifier')\n"
   ]
  },
  {
   "cell_type": "code",
   "execution_count": 531,
   "id": "ee8b5cd7",
   "metadata": {},
   "outputs": [
    {
     "name": "stdout",
     "output_type": "stream",
     "text": [
      "The Random Forest Tree accuracy at leaf node 10 for the following trees; 100,200,400,500,750,1000 are\n",
      "[0.5994, 0.5807, 0.5839, 0.5839, 0.5932, 0.5963]\n",
      "respectively\n"
     ]
    }
   ],
   "source": [
    "print('The Random Forest Tree accuracy at leaf node 10 for the following trees; 100,200,400,500,750,1000 are');print(accuracyRTC);print('respectively')"
   ]
  },
  {
   "cell_type": "markdown",
   "id": "fb53a572",
   "metadata": {},
   "source": [
    "# Method 2 for RTC accuracy"
   ]
  },
  {
   "cell_type": "code",
   "execution_count": 499,
   "id": "d8fd42b2",
   "metadata": {},
   "outputs": [
    {
     "name": "stderr",
     "output_type": "stream",
     "text": [
      "<ipython-input-499-1a38133b30bb>:23: DataConversionWarning: A column-vector y was passed when a 1d array was expected. Please change the shape of y to (n_samples,), for example using ravel().\n",
      "  RTC.fit(x_train, y_train)\n",
      "<ipython-input-499-1a38133b30bb>:23: DataConversionWarning: A column-vector y was passed when a 1d array was expected. Please change the shape of y to (n_samples,), for example using ravel().\n",
      "  RTC.fit(x_train, y_train)\n",
      "<ipython-input-499-1a38133b30bb>:23: DataConversionWarning: A column-vector y was passed when a 1d array was expected. Please change the shape of y to (n_samples,), for example using ravel().\n",
      "  RTC.fit(x_train, y_train)\n",
      "<ipython-input-499-1a38133b30bb>:23: DataConversionWarning: A column-vector y was passed when a 1d array was expected. Please change the shape of y to (n_samples,), for example using ravel().\n",
      "  RTC.fit(x_train, y_train)\n",
      "<ipython-input-499-1a38133b30bb>:23: DataConversionWarning: A column-vector y was passed when a 1d array was expected. Please change the shape of y to (n_samples,), for example using ravel().\n",
      "  RTC.fit(x_train, y_train)\n",
      "<ipython-input-499-1a38133b30bb>:23: DataConversionWarning: A column-vector y was passed when a 1d array was expected. Please change the shape of y to (n_samples,), for example using ravel().\n",
      "  RTC.fit(x_train, y_train)\n"
     ]
    },
    {
     "name": "stdout",
     "output_type": "stream",
     "text": [
      "The Random Forest Tree accuracy at leaf node 5 for the following trees; 100,200,400,500,750,1000 are\n",
      "[0.8043478260869565, 0.8043478260869565, 0.8291925465838509, 0.8385093167701864, 0.8260869565217391, 0.8291925465838509]\n"
     ]
    }
   ],
   "source": [
    "x = pd.DataFrame(HIV)\n",
    "x = x.drop('Participant Condition', 1)\n",
    "y = pd.DataFrame(HIV, columns=['Participant Condition'])\n",
    "\n",
    "#Test split at 10% and train split at 90%\n",
    "x_train, x_test, y_train, y_test = train_test_split(x, y, test_size=0.1, train_size=0.9) \n",
    "\n",
    "# The dataset needs to be normalised\n",
    "scaler = StandardScaler()\n",
    "scaler.fit(x_train)\n",
    "x_train = scaler.transform(x_train)\n",
    "x_test = scaler.transform(x_test)\n",
    "\n",
    "\n",
    "tree = [10,50,100,200,500,1000]\n",
    "treelength = len(tree)\n",
    "leaf5 = [] \n",
    "leaf10 = []\n",
    "\n",
    "for i in range(treelength):\n",
    "    #Training a Random Forest Classifier \n",
    "    RTC = RandomForestClassifier(n_estimators=tree[i], min_samples_leaf=5)\n",
    "    RTC.fit(x_train, y_train)\n",
    "    RTC_predict = RTC.predict(x_test)\n",
    "    accuracy = accuracy_score(y_test, RTC_predict)\n",
    "    leaf5.append(accuracy)\n",
    "print('The Random Forest Tree accuracy at leaf node 5 for the following trees; 100,200,400,500,750,1000 are');print(leaf5)"
   ]
  },
  {
   "cell_type": "code",
   "execution_count": 501,
   "id": "99a6e767",
   "metadata": {},
   "outputs": [
    {
     "name": "stderr",
     "output_type": "stream",
     "text": [
      "<ipython-input-501-c671e821aa89>:4: DataConversionWarning: A column-vector y was passed when a 1d array was expected. Please change the shape of y to (n_samples,), for example using ravel().\n",
      "  RTC.fit(x_train, y_train)\n",
      "<ipython-input-501-c671e821aa89>:4: DataConversionWarning: A column-vector y was passed when a 1d array was expected. Please change the shape of y to (n_samples,), for example using ravel().\n",
      "  RTC.fit(x_train, y_train)\n",
      "<ipython-input-501-c671e821aa89>:4: DataConversionWarning: A column-vector y was passed when a 1d array was expected. Please change the shape of y to (n_samples,), for example using ravel().\n",
      "  RTC.fit(x_train, y_train)\n",
      "<ipython-input-501-c671e821aa89>:4: DataConversionWarning: A column-vector y was passed when a 1d array was expected. Please change the shape of y to (n_samples,), for example using ravel().\n",
      "  RTC.fit(x_train, y_train)\n",
      "<ipython-input-501-c671e821aa89>:4: DataConversionWarning: A column-vector y was passed when a 1d array was expected. Please change the shape of y to (n_samples,), for example using ravel().\n",
      "  RTC.fit(x_train, y_train)\n",
      "<ipython-input-501-c671e821aa89>:4: DataConversionWarning: A column-vector y was passed when a 1d array was expected. Please change the shape of y to (n_samples,), for example using ravel().\n",
      "  RTC.fit(x_train, y_train)\n"
     ]
    },
    {
     "name": "stdout",
     "output_type": "stream",
     "text": [
      "The Random Forest Tree accuracy at leaf node 10 for the following trees; 100,200,400,500,750,1000 are\n",
      "[0.7701863354037267, 0.7950310559006211, 0.7888198757763976, 0.7981366459627329, 0.7950310559006211, 0.7981366459627329]\n"
     ]
    }
   ],
   "source": [
    "for i in range(treelength):\n",
    "    #Training a Random Forest Classifier \n",
    "    RTC = RandomForestClassifier(n_estimators=tree[i], min_samples_leaf=10)\n",
    "    RTC.fit(x_train, y_train)\n",
    "    RTC_predict = RTC.predict(x_test)\n",
    "    accuracy = accuracy_score(y_test, RTC_predict)\n",
    "    leaf10.append(accuracy)\n",
    "print('The Random Forest Tree accuracy at leaf node 10 for the following trees; 100,200,400,500,750,1000 are');print(leaf10)"
   ]
  },
  {
   "cell_type": "markdown",
   "id": "0fb0c893",
   "metadata": {},
   "source": [
    "## Section 3.3 Model Selection (10 fold cv)"
   ]
  },
  {
   "cell_type": "markdown",
   "id": "14811c8a",
   "metadata": {},
   "source": [
    " In this task, you are asked to use a 10-fold CV"
   ]
  },
  {
   "cell_type": "code",
   "execution_count": 2,
   "id": "2af210f2",
   "metadata": {},
   "outputs": [
    {
     "name": "stdout",
     "output_type": "stream",
     "text": [
      "Mean accuracy for ANN  using 10 fold CV with 50 neurons :\n",
      "0.665532787678257\n"
     ]
    }
   ],
   "source": [
    "#the tenFoldCv function is implemented to shuffle and split datasets into k sections.\n",
    "\n",
    "def tenFoldCV(layersizes, x, y, k):\n",
    "    annCV = MLPClassifier(hidden_layer_sizes=(layersizes,layersizes), activation='logistic')\n",
    "    setattr(annCV, \"out_activation_\", \"logistic\")\n",
    "    annCross = cross_val_score(annCV, x, y, cv=k,scoring='accuracy',n_jobs=-1) \n",
    "    #n_jobs= -1 is the input range value\n",
    "    \n",
    "#MEAN\n",
    "    annMean = np.mean(annCross)  \n",
    "    print('Mean accuracy for ANN  using 10 fold CV with', layersizes, 'neurons :');print(annMean)\n",
    "\n",
    "    \n",
    "    \n",
    "HIV = shuffle(HIV)\n",
    "x = pd.DataFrame(HIV)\n",
    "x = x.drop('Participant Condition', 1)\n",
    "y = pd.DataFrame(HIV, columns=['Participant Condition'])\n",
    "\n",
    "k=10#process repeated k=10 times\n",
    "\n",
    "#the repeat is done 10 times to process different kFold of varying sizes within the neurons/trees in each hidden layer, inorder to function the test and train of data\n",
    "tenFoldCV(50, x, y, k)"
   ]
  },
  {
   "cell_type": "code",
   "execution_count": 3,
   "id": "368bcd63",
   "metadata": {},
   "outputs": [
    {
     "name": "stdout",
     "output_type": "stream",
     "text": [
      "Mean accuracy for ANN  using 10 fold CV with 500 neurons :\n",
      "0.6456154099185387\n"
     ]
    }
   ],
   "source": [
    "tenFoldCV(500, x, y, k)"
   ]
  },
  {
   "cell_type": "code",
   "execution_count": 4,
   "id": "6aa4f5ba",
   "metadata": {},
   "outputs": [
    {
     "name": "stdout",
     "output_type": "stream",
     "text": [
      "Mean accuracy for ANN  using 10 fold CV with 1000 neurons :\n",
      "0.6521613358874634\n"
     ]
    }
   ],
   "source": [
    "tenFoldCV(1000, x, y, k)"
   ]
  },
  {
   "cell_type": "code",
   "execution_count": 5,
   "id": "7c9d8cc2",
   "metadata": {},
   "outputs": [
    {
     "name": "stdout",
     "output_type": "stream",
     "text": [
      "Mean accuracy for Random Forest of 10 MSL 50  trees:\n",
      "0.7815909134885162\n"
     ]
    }
   ],
   "source": [
    "def tenFoldCV(tree, x, y, k):\n",
    "    rtcCV = RandomForestClassifier(n_estimators=tree, min_samples_leaf=10)\n",
    "    rtcCross = cross_val_score(rtcCV, x, y, cv=k,scoring='accuracy', n_jobs=-1)\n",
    "    rtcMean = np.mean(rtcCross)\n",
    "    print('Mean accuracy for Random Forest of 10 MSL',tree,' trees:');print(rtcMean)\n",
    "\n",
    "HIV = shuffle(HIV)\n",
    "x = pd.DataFrame(HIV)\n",
    "x = x.drop('Participant Condition', 1)\n",
    "y = pd.DataFrame(HIV, columns=['Participant Condition'])\n",
    "\n",
    "\n",
    "\n",
    "k=10 \n",
    "tenFoldCV(50,x,y,k)"
   ]
  },
  {
   "cell_type": "code",
   "execution_count": 6,
   "id": "23831820",
   "metadata": {},
   "outputs": [
    {
     "name": "stdout",
     "output_type": "stream",
     "text": [
      "Mean accuracy for Random Forest of 10 MSL 500  trees:\n",
      "0.792471120914843\n"
     ]
    }
   ],
   "source": [
    "tenFoldCV(500,x,y,k)\n"
   ]
  },
  {
   "cell_type": "code",
   "execution_count": 7,
   "id": "da45f4c9",
   "metadata": {},
   "outputs": [
    {
     "name": "stdout",
     "output_type": "stream",
     "text": [
      "Mean accuracy for Random Forest of 10 MSL 1000  trees:\n",
      "0.7921624968557109\n"
     ]
    }
   ],
   "source": [
    "tenFoldCV(1000,x,y,k)"
   ]
  },
  {
   "cell_type": "code",
   "execution_count": null,
   "id": "740066ab",
   "metadata": {},
   "outputs": [],
   "source": [
    "print('Which parameters should we use for each of the two methods')\n",
    "print('I would use the Random Forest method as it has better accuracy rates than ANN even with 10 CV fold')"
   ]
  }
 ],
 "metadata": {
  "kernelspec": {
   "display_name": "Python 3",
   "language": "python",
   "name": "python3"
  },
  "language_info": {
   "codemirror_mode": {
    "name": "ipython",
    "version": 3
   },
   "file_extension": ".py",
   "mimetype": "text/x-python",
   "name": "python",
   "nbconvert_exporter": "python",
   "pygments_lexer": "ipython3",
   "version": "3.8.8"
  }
 },
 "nbformat": 4,
 "nbformat_minor": 5
}
